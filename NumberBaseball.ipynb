{
  "nbformat": 4,
  "nbformat_minor": 0,
  "metadata": {
    "colab": {
      "provenance": []
    },
    "kernelspec": {
      "name": "python3",
      "display_name": "Python 3"
    },
    "language_info": {
      "name": "python"
    }
  },
  "cells": [
    {
      "cell_type": "code",
      "execution_count": null,
      "metadata": {
        "id": "AG9R7Xohe8SY"
      },
      "outputs": [],
      "source": [
        "import random\n",
        "\n",
        "# 1) 정답 만들기: 0~9 중 서로 다른 5개\n",
        "answer = random.sample(range(10), 5)\n",
        "\n",
        "while True:\n",
        "    s = input(\"숫자 5개(중복 없이): \").strip()\n",
        "\n",
        "    # 입력 검사 (숫자 5자리, 중복 없음)\n",
        "    if not s.isdigit() or len(s) != 5 or len(set(s)) != 5:\n",
        "        print(\"형식이 맞지 않아요! 예: 39276 처럼 숫자 5개, 서로 다르게.\")\n",
        "        continue\n",
        "\n",
        "    guess = [int(ch) for ch in s]\n",
        "\n",
        "    # 2) 스트라이크 세기 (자리와 숫자 모두 같음)\n",
        "    strike = sum(a == b for a, b in zip(answer, guess))\n",
        "\n",
        "    # 3) 볼 세기 (숫자는 있지만 자리는 다름)\n",
        "    common = sum(1 for g in guess if g in answer)  # 공통 숫자 개수\n",
        "    ball = common - strike\n",
        "\n",
        "    print(f\"{strike} strike {ball} ball\")\n",
        "\n",
        "    if strike == 5:\n",
        "        print(\"정답! 잘했어요! 🎉\")\n",
        "        break"
      ]
    }
  ]
}